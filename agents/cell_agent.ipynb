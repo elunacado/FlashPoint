{
 "cells": [
  {
   "cell_type": "code",
   "execution_count": null,
   "metadata": {},
   "outputs": [],
   "source": [
    "from mesa import Agent "
   ]
  },
  {
   "cell_type": "code",
   "execution_count": null,
   "metadata": {},
   "outputs": [],
   "source": [
    "from mesa import Agent \n",
    "\n",
    "class CellAgent(Agent):\n",
    "    def __init__(self, position, model, raw_walls):\n",
    "        super().__init__(position, model)\n",
    "        #Posición de la celda\n",
    "        self.position = position\n",
    "        #Colocar las paredes\n",
    "        self.walls = self.parse_walls(raw_walls)\n",
    "        #¿Que hay dentro de la celda?\n",
    "        self.state = \"clear\"\n",
    "\n",
    "    #Extraer la información de las paredes\n",
    "    def parse_walls(self, walls_code):\n",
    "        walls = {\n",
    "            #Si hay un 1 hay una pared\n",
    "            \"top\": walls_code[0] == \"1\",\n",
    "            \"left\": walls_code[1] == \"1\",\n",
    "            \"bottom\": walls_code[2] == \"1\",\n",
    "            \"right\": walls_code[3] == \"1\",\n",
    "        }\n",
    "        return walls\n",
    "\n"
   ]
  }
 ],
 "metadata": {
  "language_info": {
   "name": "python"
  }
 },
 "nbformat": 4,
 "nbformat_minor": 2
}
